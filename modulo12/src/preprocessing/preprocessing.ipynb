{
 "cells": [
  {
   "cell_type": "code",
   "execution_count": 17,
   "metadata": {},
   "outputs": [],
   "source": [
    "import pandas as pd\n",
    "from pathlib import Path\n"
   ]
  },
  {
   "cell_type": "code",
   "execution_count": 18,
   "metadata": {},
   "outputs": [],
   "source": [
    "def clean_text(text):\n",
    "    if not isinstance(text, str):\n",
    "        return \"\"\n",
    "    # Normaliza quebras de linha e remove espaços extras\n",
    "    return ' '.join(text.replace('\\r\\n', ' ').replace('\\n', ' ').split())\n"
   ]
  },
  {
   "cell_type": "code",
   "execution_count": 19,
   "metadata": {},
   "outputs": [],
   "source": [
    "# Cria diretórios necessários\n",
    "data_dir = Path('../../data')\n",
    "data_dir.mkdir(exist_ok=True)\n"
   ]
  },
  {
   "cell_type": "code",
   "execution_count": 20,
   "metadata": {},
   "outputs": [],
   "source": [
    "input_file = data_dir / 'olist_order_reviews_dataset.csv'\n",
    "df = pd.read_csv(input_file)"
   ]
  },
  {
   "cell_type": "code",
   "execution_count": 21,
   "metadata": {},
   "outputs": [],
   "source": [
    "# Seleciona apenas as colunas necessárias\n",
    "df = df[['review_score', 'review_comment_title', 'review_comment_message']]\n"
   ]
  },
  {
   "cell_type": "code",
   "execution_count": 22,
   "metadata": {},
   "outputs": [],
   "source": [
    "\n",
    "# Limpa os textos\n",
    "df['review_comment_title'] = df['review_comment_title'].apply(clean_text)\n",
    "df['review_comment_message'] = df['review_comment_message'].apply(clean_text)"
   ]
  },
  {
   "cell_type": "code",
   "execution_count": 23,
   "metadata": {},
   "outputs": [],
   "source": [
    "\n",
    "# Combina título e mensagem da review\n",
    "df['review_text'] = df['review_comment_title'].fillna('') + ' ' + df['review_comment_message'].fillna('')\n",
    "\n",
    "# Remove linhas com texto vazio\n",
    "df = df[df['review_text'].str.strip() != '']\n",
    "\n",
    "# Salva o dataset processado\n",
    "output_path = data_dir / 'processed_reviews.csv'\n",
    "df.to_csv(output_path, index=False)"
   ]
  },
  {
   "cell_type": "code",
   "execution_count": 24,
   "metadata": {},
   "outputs": [
    {
     "data": {
      "text/html": [
       "<div>\n",
       "<style scoped>\n",
       "    .dataframe tbody tr th:only-of-type {\n",
       "        vertical-align: middle;\n",
       "    }\n",
       "\n",
       "    .dataframe tbody tr th {\n",
       "        vertical-align: top;\n",
       "    }\n",
       "\n",
       "    .dataframe thead th {\n",
       "        text-align: right;\n",
       "    }\n",
       "</style>\n",
       "<table border=\"1\" class=\"dataframe\">\n",
       "  <thead>\n",
       "    <tr style=\"text-align: right;\">\n",
       "      <th></th>\n",
       "      <th>review_score</th>\n",
       "      <th>review_comment_title</th>\n",
       "      <th>review_comment_message</th>\n",
       "      <th>review_text</th>\n",
       "    </tr>\n",
       "  </thead>\n",
       "  <tbody>\n",
       "    <tr>\n",
       "      <th>3</th>\n",
       "      <td>5</td>\n",
       "      <td></td>\n",
       "      <td>Recebi bem antes do prazo estipulado.</td>\n",
       "      <td>Recebi bem antes do prazo estipulado.</td>\n",
       "    </tr>\n",
       "    <tr>\n",
       "      <th>4</th>\n",
       "      <td>5</td>\n",
       "      <td></td>\n",
       "      <td>Parabéns lojas lannister adorei comprar pela I...</td>\n",
       "      <td>Parabéns lojas lannister adorei comprar pela ...</td>\n",
       "    </tr>\n",
       "    <tr>\n",
       "      <th>9</th>\n",
       "      <td>4</td>\n",
       "      <td>recomendo</td>\n",
       "      <td>aparelho eficiente. no site a marca do aparelh...</td>\n",
       "      <td>recomendo aparelho eficiente. no site a marca ...</td>\n",
       "    </tr>\n",
       "    <tr>\n",
       "      <th>12</th>\n",
       "      <td>4</td>\n",
       "      <td></td>\n",
       "      <td>Mas um pouco ,travando...pelo valor ta Boa.</td>\n",
       "      <td>Mas um pouco ,travando...pelo valor ta Boa.</td>\n",
       "    </tr>\n",
       "    <tr>\n",
       "      <th>15</th>\n",
       "      <td>5</td>\n",
       "      <td>Super recomendo</td>\n",
       "      <td>Vendedor confiável, produto ok e entrega antes...</td>\n",
       "      <td>Super recomendo Vendedor confiável, produto ok...</td>\n",
       "    </tr>\n",
       "    <tr>\n",
       "      <th>16</th>\n",
       "      <td>2</td>\n",
       "      <td></td>\n",
       "      <td>GOSTARIA DE SABER O QUE HOUVE, SEMPRE RECEBI E...</td>\n",
       "      <td>GOSTARIA DE SABER O QUE HOUVE, SEMPRE RECEBI ...</td>\n",
       "    </tr>\n",
       "    <tr>\n",
       "      <th>19</th>\n",
       "      <td>1</td>\n",
       "      <td>Não chegou meu produto</td>\n",
       "      <td>Péssimo</td>\n",
       "      <td>Não chegou meu produto Péssimo</td>\n",
       "    </tr>\n",
       "    <tr>\n",
       "      <th>22</th>\n",
       "      <td>5</td>\n",
       "      <td>Ótimo</td>\n",
       "      <td>Loja nota 10</td>\n",
       "      <td>Ótimo Loja nota 10</td>\n",
       "    </tr>\n",
       "    <tr>\n",
       "      <th>24</th>\n",
       "      <td>5</td>\n",
       "      <td></td>\n",
       "      <td>obrigado pela atençao amim dispensada</td>\n",
       "      <td>obrigado pela atençao amim dispensada</td>\n",
       "    </tr>\n",
       "    <tr>\n",
       "      <th>27</th>\n",
       "      <td>5</td>\n",
       "      <td></td>\n",
       "      <td>A compra foi realizada facilmente. A entrega f...</td>\n",
       "      <td>A compra foi realizada facilmente. A entrega ...</td>\n",
       "    </tr>\n",
       "  </tbody>\n",
       "</table>\n",
       "</div>"
      ],
      "text/plain": [
       "    review_score    review_comment_title  \\\n",
       "3              5                           \n",
       "4              5                           \n",
       "9              4               recomendo   \n",
       "12             4                           \n",
       "15             5         Super recomendo   \n",
       "16             2                           \n",
       "19             1  Não chegou meu produto   \n",
       "22             5                   Ótimo   \n",
       "24             5                           \n",
       "27             5                           \n",
       "\n",
       "                               review_comment_message  \\\n",
       "3               Recebi bem antes do prazo estipulado.   \n",
       "4   Parabéns lojas lannister adorei comprar pela I...   \n",
       "9   aparelho eficiente. no site a marca do aparelh...   \n",
       "12        Mas um pouco ,travando...pelo valor ta Boa.   \n",
       "15  Vendedor confiável, produto ok e entrega antes...   \n",
       "16  GOSTARIA DE SABER O QUE HOUVE, SEMPRE RECEBI E...   \n",
       "19                                            Péssimo   \n",
       "22                                       Loja nota 10   \n",
       "24              obrigado pela atençao amim dispensada   \n",
       "27  A compra foi realizada facilmente. A entrega f...   \n",
       "\n",
       "                                          review_text  \n",
       "3               Recebi bem antes do prazo estipulado.  \n",
       "4    Parabéns lojas lannister adorei comprar pela ...  \n",
       "9   recomendo aparelho eficiente. no site a marca ...  \n",
       "12        Mas um pouco ,travando...pelo valor ta Boa.  \n",
       "15  Super recomendo Vendedor confiável, produto ok...  \n",
       "16   GOSTARIA DE SABER O QUE HOUVE, SEMPRE RECEBI ...  \n",
       "19                     Não chegou meu produto Péssimo  \n",
       "22                                 Ótimo Loja nota 10  \n",
       "24              obrigado pela atençao amim dispensada  \n",
       "27   A compra foi realizada facilmente. A entrega ...  "
      ]
     },
     "execution_count": 24,
     "metadata": {},
     "output_type": "execute_result"
    }
   ],
   "source": [
    "df.head(10)"
   ]
  },
  {
   "cell_type": "code",
   "execution_count": null,
   "metadata": {},
   "outputs": [],
   "source": []
  }
 ],
 "metadata": {
  "kernelspec": {
   "display_name": "Python 3",
   "language": "python",
   "name": "python3"
  },
  "language_info": {
   "codemirror_mode": {
    "name": "ipython",
    "version": 3
   },
   "file_extension": ".py",
   "mimetype": "text/x-python",
   "name": "python",
   "nbconvert_exporter": "python",
   "pygments_lexer": "ipython3",
   "version": "3.13.3"
  }
 },
 "nbformat": 4,
 "nbformat_minor": 2
}
